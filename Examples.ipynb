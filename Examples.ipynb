{
 "cells": [
  {
   "cell_type": "code",
   "execution_count": 1,
   "id": "f1846e15",
   "metadata": {},
   "outputs": [],
   "source": [
    "import numpy as np"
   ]
  },
  {
   "cell_type": "markdown",
   "id": "137e5865",
   "metadata": {},
   "source": [
    "# Вектор строка"
   ]
  },
  {
   "cell_type": "code",
   "execution_count": 6,
   "id": "3d68ce26",
   "metadata": {},
   "outputs": [
    {
     "name": "stdout",
     "output_type": "stream",
     "text": [
      "[1 2]\n"
     ]
    }
   ],
   "source": [
    ">>> v_hor_np = np.array([1, 2])\n",
    ">>> print(v_hor_np )"
   ]
  },
  {
   "cell_type": "code",
   "execution_count": 7,
   "id": "a51a4b31",
   "metadata": {},
   "outputs": [
    {
     "name": "stdout",
     "output_type": "stream",
     "text": [
      "[0. 0. 0. 0. 0.]\n"
     ]
    }
   ],
   "source": [
    ">>> v_hor_zeros_v1 = np.zeros((5,))\n",
    ">>> print(v_hor_zeros_v1 )"
   ]
  },
  {
   "cell_type": "code",
   "execution_count": 8,
   "id": "104f269c",
   "metadata": {},
   "outputs": [
    {
     "name": "stdout",
     "output_type": "stream",
     "text": [
      "[[0. 0. 0. 0. 0.]]\n"
     ]
    }
   ],
   "source": [
    ">>> v_hor_zeros_v2 = np.zeros((1, 5))\n",
    ">>> print(v_hor_zeros_v2 )"
   ]
  },
  {
   "cell_type": "code",
   "execution_count": 10,
   "id": "1f90f9bc",
   "metadata": {},
   "outputs": [
    {
     "name": "stdout",
     "output_type": "stream",
     "text": [
      "[1. 1. 1. 1. 1.]\n",
      "[[1. 1. 1. 1. 1.]]\n"
     ]
    }
   ],
   "source": [
    ">>> v_hor_one_v1 = np.ones((5,))\n",
    ">>> print(v_hor_one_v1)\n",
    ">>> v_hor_one_v2 = np.ones((1, 5))\n",
    ">>> print(v_hor_one_v2)"
   ]
  },
  {
   "cell_type": "markdown",
   "id": "19b91c08",
   "metadata": {},
   "source": [
    "# Вектор-столбец"
   ]
  },
  {
   "cell_type": "code",
   "execution_count": 11,
   "id": "1c2e7f2a",
   "metadata": {},
   "outputs": [
    {
     "name": "stdout",
     "output_type": "stream",
     "text": [
      "[[1]\n",
      " [2]]\n"
     ]
    }
   ],
   "source": [
    ">>> v_vert_np = np.array([[1], [2]])\n",
    ">>> print(v_vert_np)"
   ]
  },
  {
   "cell_type": "code",
   "execution_count": 12,
   "id": "4590f830",
   "metadata": {},
   "outputs": [
    {
     "name": "stdout",
     "output_type": "stream",
     "text": [
      "[[0.]\n",
      " [0.]\n",
      " [0.]\n",
      " [0.]\n",
      " [0.]]\n"
     ]
    }
   ],
   "source": [
    ">>> v_vert_zeros = np.zeros((5, 1))\n",
    ">>> print(v_vert_zeros)"
   ]
  },
  {
   "cell_type": "code",
   "execution_count": 13,
   "id": "c7e6b2e4",
   "metadata": {},
   "outputs": [
    {
     "name": "stdout",
     "output_type": "stream",
     "text": [
      "[[1.]\n",
      " [1.]\n",
      " [1.]\n",
      " [1.]\n",
      " [1.]]\n"
     ]
    }
   ],
   "source": [
    ">>> v_vert_ones = np.ones((5, 1))\n",
    ">>> print(v_vert_ones)"
   ]
  },
  {
   "cell_type": "markdown",
   "id": "b4ae5dbd",
   "metadata": {},
   "source": [
    "# Квадратная матрица"
   ]
  },
  {
   "cell_type": "code",
   "execution_count": 14,
   "id": "24605109",
   "metadata": {},
   "outputs": [
    {
     "name": "stdout",
     "output_type": "stream",
     "text": [
      "[[1 2 3]\n",
      " [4 5 6]\n",
      " [7 8 9]]\n"
     ]
    }
   ],
   "source": [
    ">>> m_sqr_arr = np.array([[1, 2, 3], [4, 5, 6], [7, 8, 9]])\n",
    ">>> print(m_sqr_arr)"
   ]
  },
  {
   "cell_type": "code",
   "execution_count": 15,
   "id": "2cc632da",
   "metadata": {},
   "outputs": [
    {
     "name": "stdout",
     "output_type": "stream",
     "text": [
      "[[1 2 3]\n",
      " [4 5 6]\n",
      " [7 8 9]]\n"
     ]
    }
   ],
   "source": [
    ">>> m_sqr = [[1, 2, 3], [4, 5, 6], [7, 8, 9]]\n",
    ">>> m_sqr_arr = np.array(m_sqr)\n",
    ">>> print(m_sqr_arr)"
   ]
  },
  {
   "cell_type": "code",
   "execution_count": 16,
   "id": "7ba14382",
   "metadata": {},
   "outputs": [
    {
     "name": "stdout",
     "output_type": "stream",
     "text": [
      "[[1 2 3]\n",
      " [4 5 6]\n",
      " [7 8 9]]\n"
     ]
    }
   ],
   "source": [
    ">>> m_sqr_mx = np.matrix([[1, 2, 3], [4, 5, 6], [7, 8, 9]])\n",
    ">>> print(m_sqr_mx)"
   ]
  },
  {
   "cell_type": "code",
   "execution_count": 17,
   "id": "77849090",
   "metadata": {},
   "outputs": [
    {
     "name": "stdout",
     "output_type": "stream",
     "text": [
      "[[1 2 3]\n",
      " [4 5 6]\n",
      " [7 8 9]]\n"
     ]
    }
   ],
   "source": [
    ">>> m_sqr_mx = np.matrix('1 2 3; 4 5 6; 7 8 9')\n",
    ">>> print(m_sqr_mx)"
   ]
  },
  {
   "cell_type": "markdown",
   "id": "936925c7",
   "metadata": {},
   "source": [
    "# Диагональная матрица"
   ]
  },
  {
   "cell_type": "code",
   "execution_count": 18,
   "id": "e5b2e7dd",
   "metadata": {},
   "outputs": [
    {
     "name": "stdout",
     "output_type": "stream",
     "text": [
      "[[1 0 0]\n",
      " [0 5 0]\n",
      " [0 0 9]]\n"
     ]
    }
   ],
   "source": [
    ">>> m_diag = [[1, 0, 0], [0, 5, 0], [0, 0, 9]]\n",
    ">>> m_diag_np = np.matrix(m_diag)\n",
    ">>> print(m_diag_np)"
   ]
  },
  {
   "cell_type": "code",
   "execution_count": 19,
   "id": "2464a28b",
   "metadata": {},
   "outputs": [],
   "source": [
    ">>> m_sqr_mx = np.matrix('1 2 3; 4 5 6; 7 8 9')"
   ]
  },
  {
   "cell_type": "code",
   "execution_count": 20,
   "id": "1e3b9b6c",
   "metadata": {},
   "outputs": [
    {
     "name": "stdout",
     "output_type": "stream",
     "text": [
      "[1 5 9]\n"
     ]
    }
   ],
   "source": [
    ">>> diag = np.diag(m_sqr_mx)\n",
    ">>> print(diag)"
   ]
  },
  {
   "cell_type": "code",
   "execution_count": 21,
   "id": "5496aee1",
   "metadata": {},
   "outputs": [
    {
     "name": "stdout",
     "output_type": "stream",
     "text": [
      "[[1 0 0]\n",
      " [0 5 0]\n",
      " [0 0 9]]\n"
     ]
    }
   ],
   "source": [
    ">>> m_diag_np = np.diag(np.diag(m_sqr_mx))\n",
    ">>> print(m_diag_np)"
   ]
  },
  {
   "cell_type": "markdown",
   "id": "b693b144",
   "metadata": {},
   "source": [
    "# Единичная матрица"
   ]
  },
  {
   "cell_type": "code",
   "execution_count": 22,
   "id": "6900e772",
   "metadata": {},
   "outputs": [
    {
     "name": "stdout",
     "output_type": "stream",
     "text": [
      "[[1 0 0]\n",
      " [0 1 0]\n",
      " [0 0 1]]\n"
     ]
    }
   ],
   "source": [
    ">>> m_e = [[1, 0, 0], [0, 1, 0], [0, 0, 1]]\n",
    ">>> m_e_np = np.matrix(m_e)\n",
    ">>> print(m_e_np)"
   ]
  },
  {
   "cell_type": "code",
   "execution_count": 23,
   "id": "1007f142",
   "metadata": {},
   "outputs": [
    {
     "name": "stdout",
     "output_type": "stream",
     "text": [
      "[[1. 0. 0.]\n",
      " [0. 1. 0.]\n",
      " [0. 0. 1.]]\n"
     ]
    }
   ],
   "source": [
    ">>> m_eye = np.eye(3)\n",
    ">>> print(m_eye)"
   ]
  },
  {
   "cell_type": "code",
   "execution_count": 24,
   "id": "7c6779f2",
   "metadata": {},
   "outputs": [
    {
     "name": "stdout",
     "output_type": "stream",
     "text": [
      "[[1. 0. 0.]\n",
      " [0. 1. 0.]\n",
      " [0. 0. 1.]]\n"
     ]
    }
   ],
   "source": [
    ">>> m_idnt = np.identity(3)\n",
    ">>> print(m_idnt)"
   ]
  },
  {
   "cell_type": "markdown",
   "id": "474bd4a8",
   "metadata": {},
   "source": [
    "# Нулевая матрица"
   ]
  },
  {
   "cell_type": "code",
   "execution_count": 25,
   "id": "ca80fe4e",
   "metadata": {},
   "outputs": [
    {
     "name": "stdout",
     "output_type": "stream",
     "text": [
      "[[0. 0. 0.]\n",
      " [0. 0. 0.]\n",
      " [0. 0. 0.]]\n"
     ]
    }
   ],
   "source": [
    ">>> m_zeros = np.zeros((3, 3))\n",
    ">>> print(m_zeros)"
   ]
  },
  {
   "cell_type": "markdown",
   "id": "f69e2b22",
   "metadata": {},
   "source": [
    "# Задание матрицы в общем виде"
   ]
  },
  {
   "cell_type": "code",
   "execution_count": 26,
   "id": "ecb7c1b3",
   "metadata": {},
   "outputs": [
    {
     "name": "stdout",
     "output_type": "stream",
     "text": [
      "[[1 2 3]\n",
      " [4 5 6]]\n"
     ]
    }
   ],
   "source": [
    ">>> m_mx = np.matrix('1 2 3; 4 5 6')\n",
    ">>> print(m_mx)"
   ]
  },
  {
   "cell_type": "code",
   "execution_count": 27,
   "id": "5e6256c3",
   "metadata": {},
   "outputs": [
    {
     "name": "stdout",
     "output_type": "stream",
     "text": [
      "[[0. 0. 0. 0. 0.]\n",
      " [0. 0. 0. 0. 0.]]\n"
     ]
    }
   ],
   "source": [
    ">>> m_var = np.zeros((2, 5))\n",
    ">>> print(m_var)"
   ]
  },
  {
   "cell_type": "markdown",
   "id": "f6dfd8cf",
   "metadata": {},
   "source": [
    "# Транспонирование матрицы"
   ]
  },
  {
   "cell_type": "code",
   "execution_count": 28,
   "id": "312c2510",
   "metadata": {},
   "outputs": [
    {
     "name": "stdout",
     "output_type": "stream",
     "text": [
      "[[1 2 3]\n",
      " [4 5 6]]\n"
     ]
    }
   ],
   "source": [
    ">>> A = np.matrix('1 2 3; 4 5 6')\n",
    ">>> print(A)"
   ]
  },
  {
   "cell_type": "code",
   "execution_count": 29,
   "id": "62e93ae2",
   "metadata": {},
   "outputs": [
    {
     "name": "stdout",
     "output_type": "stream",
     "text": [
      "[[1 4]\n",
      " [2 5]\n",
      " [3 6]]\n"
     ]
    }
   ],
   "source": [
    ">>> A_t = A.transpose()\n",
    ">>> print(A_t)"
   ]
  },
  {
   "cell_type": "code",
   "execution_count": 30,
   "id": "f1fabaf0",
   "metadata": {},
   "outputs": [
    {
     "name": "stdout",
     "output_type": "stream",
     "text": [
      "[[1 4]\n",
      " [2 5]\n",
      " [3 6]]\n"
     ]
    }
   ],
   "source": [
    "print(A.T)"
   ]
  },
  {
   "cell_type": "code",
   "execution_count": 31,
   "id": "ad2050e3",
   "metadata": {},
   "outputs": [
    {
     "name": "stdout",
     "output_type": "stream",
     "text": [
      "[[1 2 3]\n",
      " [4 5 6]]\n"
     ]
    }
   ],
   "source": [
    ">>> A = np.matrix('1 2 3; 4 5 6')\n",
    ">>> print(A)"
   ]
  },
  {
   "cell_type": "code",
   "execution_count": 32,
   "id": "32e0713d",
   "metadata": {},
   "outputs": [
    {
     "name": "stdout",
     "output_type": "stream",
     "text": [
      "[[1 2 3]\n",
      " [4 5 6]]\n"
     ]
    }
   ],
   "source": [
    ">>> R = (A.T).T\n",
    ">>> print(R)"
   ]
  },
  {
   "cell_type": "code",
   "execution_count": 33,
   "id": "29ea8e1a",
   "metadata": {},
   "outputs": [
    {
     "name": "stdout",
     "output_type": "stream",
     "text": [
      "[[ 8  4]\n",
      " [10 12]\n",
      " [12 11]]\n"
     ]
    }
   ],
   "source": [
    ">>> A = np.matrix('1 2 3; 4 5 6')\n",
    ">>> B = np.matrix('7 8 9; 0 7 5')\n",
    ">>> L = (A + B).T\n",
    ">>> R = A.T + B.T\n",
    ">>> print(L)"
   ]
  },
  {
   "cell_type": "code",
   "execution_count": 34,
   "id": "a0e79ba7",
   "metadata": {},
   "outputs": [
    {
     "name": "stdout",
     "output_type": "stream",
     "text": [
      "[[ 8  4]\n",
      " [10 12]\n",
      " [12 11]]\n"
     ]
    }
   ],
   "source": [
    ">>> print(R)"
   ]
  },
  {
   "cell_type": "code",
   "execution_count": 35,
   "id": "3d5dc4d8",
   "metadata": {},
   "outputs": [
    {
     "name": "stdout",
     "output_type": "stream",
     "text": [
      "[[19 43]\n",
      " [22 50]]\n",
      "[[19 43]\n",
      " [22 50]]\n"
     ]
    }
   ],
   "source": [
    ">>> A = np.matrix('1 2; 3 4')\n",
    ">>> B = np.matrix('5 6; 7 8')\n",
    ">>> L = (A.dot(B)).T\n",
    ">>> R = (B.T).dot(A.T)\n",
    ">>> print(L)\n",
    ">>> print(R)"
   ]
  },
  {
   "cell_type": "code",
   "execution_count": 36,
   "id": "9cb1b9c2",
   "metadata": {},
   "outputs": [
    {
     "name": "stdout",
     "output_type": "stream",
     "text": [
      "[[ 3 12]\n",
      " [ 6 15]\n",
      " [ 9 18]]\n",
      "[[ 3 12]\n",
      " [ 6 15]\n",
      " [ 9 18]]\n"
     ]
    }
   ],
   "source": [
    ">>> A = np.matrix('1 2 3; 4 5 6')\n",
    ">>> k = 3\n",
    ">>> L = (k * A).T\n",
    ">>> R = k * (A.T)\n",
    ">>> print(L)\n",
    ">>> print(R)"
   ]
  },
  {
   "cell_type": "code",
   "execution_count": 37,
   "id": "28e2e0b0",
   "metadata": {},
   "outputs": [
    {
     "name": "stdout",
     "output_type": "stream",
     "text": [
      "-2\n",
      "-2\n"
     ]
    }
   ],
   "source": [
    ">>> A = np.matrix('1 2; 3 4')\n",
    ">>> A_det = np.linalg.det(A)\n",
    ">>> A_T_det = np.linalg.det(A.T)\n",
    ">>> print(format(A_det, '.9g'))\n",
    ">>> print(format(A_T_det, '.9g'))"
   ]
  },
  {
   "cell_type": "markdown",
   "id": "cba57bd8",
   "metadata": {},
   "source": [
    "# Действия над матрицами\n",
    "## Умножение матрицы на число"
   ]
  },
  {
   "cell_type": "code",
   "execution_count": 38,
   "id": "a86a99c5",
   "metadata": {},
   "outputs": [
    {
     "name": "stdout",
     "output_type": "stream",
     "text": [
      "[[ 3  6  9]\n",
      " [12 15 18]]\n"
     ]
    }
   ],
   "source": [
    ">>> A = np.matrix('1 2 3; 4 5 6')\n",
    ">>> C = 3 * A\n",
    ">>> print(C)"
   ]
  },
  {
   "cell_type": "code",
   "execution_count": 39,
   "id": "28e77c6a",
   "metadata": {
    "scrolled": true
   },
   "outputs": [
    {
     "name": "stdout",
     "output_type": "stream",
     "text": [
      "[[1 2]\n",
      " [3 4]]\n",
      "[[1 2]\n",
      " [3 4]]\n"
     ]
    }
   ],
   "source": [
    ">>> A = np.matrix('1 2; 3 4')\n",
    ">>> L = 1 * A\n",
    ">>> R = A\n",
    ">>> print(L)\n",
    ">>> print(R)"
   ]
  },
  {
   "cell_type": "code",
   "execution_count": 40,
   "id": "31b75df5",
   "metadata": {},
   "outputs": [
    {
     "name": "stdout",
     "output_type": "stream",
     "text": [
      "[[0 0]\n",
      " [0 0]]\n",
      "[[0 0]\n",
      " [0 0]]\n"
     ]
    }
   ],
   "source": [
    ">>> A = np.matrix('1 2; 3 4')\n",
    ">>> Z = np.matrix('0 0; 0 0')\n",
    ">>> L = 0 * A\n",
    ">>> R = Z\n",
    ">>> print(L)\n",
    ">>> print(R)"
   ]
  },
  {
   "cell_type": "code",
   "execution_count": 42,
   "id": "d2e7e63d",
   "metadata": {},
   "outputs": [
    {
     "name": "stdout",
     "output_type": "stream",
     "text": [
      "[[ 5 10]\n",
      " [15 20]]\n",
      "[[ 5 10]\n",
      " [15 20]]\n"
     ]
    }
   ],
   "source": [
    ">>> A = np.matrix('1 2; 3 4')\n",
    ">>> p = 2\n",
    ">>> q = 3\n",
    ">>> L = (p + q) * A\n",
    ">>> R = p * A + q * A\n",
    ">>> print(L)\n",
    ">>> print(R)"
   ]
  },
  {
   "cell_type": "code",
   "execution_count": 43,
   "id": "0c209531",
   "metadata": {},
   "outputs": [
    {
     "name": "stdout",
     "output_type": "stream",
     "text": [
      "[[ 6 12]\n",
      " [18 24]]\n",
      "[[ 6 12]\n",
      " [18 24]]\n"
     ]
    }
   ],
   "source": [
    ">>> A = np.matrix('1 2; 3 4')\n",
    ">>> p = 2\n",
    ">>> q = 3\n",
    ">>> L = (p * q) * A\n",
    ">>> R = p * (q * A)\n",
    ">>> print(L)\n",
    ">>> print(R)"
   ]
  },
  {
   "cell_type": "code",
   "execution_count": 44,
   "id": "225ecc79",
   "metadata": {},
   "outputs": [
    {
     "name": "stdout",
     "output_type": "stream",
     "text": [
      "[[18 24]\n",
      " [30 36]]\n",
      "[[18 24]\n",
      " [30 36]]\n"
     ]
    }
   ],
   "source": [
    ">>> A = np.matrix('1 2; 3 4')\n",
    ">>> B = np.matrix('5 6; 7 8')\n",
    ">>> k = 3\n",
    ">>> L = k * (A + B)\n",
    ">>> R = k * A + k * B\n",
    ">>> print(L)\n",
    ">>> print(R)"
   ]
  },
  {
   "cell_type": "markdown",
   "id": "0cf3dd8b",
   "metadata": {},
   "source": [
    "## Сложение матриц"
   ]
  },
  {
   "cell_type": "code",
   "execution_count": 45,
   "id": "2d52476f",
   "metadata": {},
   "outputs": [
    {
     "name": "stdout",
     "output_type": "stream",
     "text": [
      "[[ 9  7  8]\n",
      " [14 11 19]]\n"
     ]
    }
   ],
   "source": [
    ">>> A = np.matrix('1 6 3; 8 2 7')\n",
    ">>> B = np.matrix('8 1 5; 6 9 12')\n",
    ">>> C = A + B\n",
    ">>> print(C)"
   ]
  },
  {
   "cell_type": "code",
   "execution_count": 46,
   "id": "24c847c0",
   "metadata": {},
   "outputs": [
    {
     "name": "stdout",
     "output_type": "stream",
     "text": [
      "[[ 6  8]\n",
      " [10 12]]\n",
      "[[ 6  8]\n",
      " [10 12]]\n"
     ]
    }
   ],
   "source": [
    ">>> A = np.matrix('1 2; 3 4')\n",
    ">>> B = np.matrix('5 6; 7 8')\n",
    ">>> L = A + B\n",
    ">>> R = B + A\n",
    ">>> print(L)\n",
    ">>> print(R)"
   ]
  },
  {
   "cell_type": "code",
   "execution_count": 47,
   "id": "feb4b955",
   "metadata": {},
   "outputs": [
    {
     "name": "stdout",
     "output_type": "stream",
     "text": [
      "[[ 7 15]\n",
      " [19 15]]\n",
      "[[ 7 15]\n",
      " [19 15]]\n"
     ]
    }
   ],
   "source": [
    ">>> A = np.matrix('1 2; 3 4')\n",
    ">>> B = np.matrix('5 6; 7 8')\n",
    ">>> C = np.matrix('1 7; 9 3')\n",
    ">>> L = A + (B + C)\n",
    ">>> R = (A + B) + C\n",
    ">>> print(L)\n",
    ">>> print(R)"
   ]
  },
  {
   "cell_type": "code",
   "execution_count": 48,
   "id": "4354c760",
   "metadata": {},
   "outputs": [
    {
     "name": "stdout",
     "output_type": "stream",
     "text": [
      "[[0 0]\n",
      " [0 0]]\n",
      "[[0 0]\n",
      " [0 0]]\n"
     ]
    }
   ],
   "source": [
    ">>> A = np.matrix('1 2; 3 4')\n",
    ">>> Z = np.matrix('0 0; 0 0')\n",
    ">>> L = A + (-1)*A\n",
    ">>> print(L)\n",
    ">>> print(Z)"
   ]
  },
  {
   "cell_type": "markdown",
   "id": "88cc313d",
   "metadata": {},
   "source": [
    "## Умножение матриц"
   ]
  },
  {
   "cell_type": "code",
   "execution_count": 49,
   "id": "734efe4e",
   "metadata": {},
   "outputs": [
    {
     "name": "stdout",
     "output_type": "stream",
     "text": [
      "[[31 19]\n",
      " [85 55]]\n"
     ]
    }
   ],
   "source": [
    ">>> A = np.matrix('1 2 3; 4 5 6')\n",
    ">>> B = np.matrix('7 8; 9 1; 2 3')\n",
    ">>> C = A.dot(B)\n",
    ">>> print(C)"
   ]
  },
  {
   "cell_type": "code",
   "execution_count": 50,
   "id": "ed876b87",
   "metadata": {},
   "outputs": [
    {
     "name": "stdout",
     "output_type": "stream",
     "text": [
      "[[192 252]\n",
      " [436 572]]\n",
      "[[192 252]\n",
      " [436 572]]\n"
     ]
    }
   ],
   "source": [
    ">>> A = np.matrix('1 2; 3 4')\n",
    ">>> B = np.matrix('5 6; 7 8')\n",
    ">>> C = np.matrix('2 4; 7 8')\n",
    ">>> L = A.dot(B.dot(C))\n",
    ">>> R = (A.dot(B)).dot(C)\n",
    ">>> print(L)\n",
    ">>> print(R)"
   ]
  },
  {
   "cell_type": "code",
   "execution_count": 51,
   "id": "e3c74d59",
   "metadata": {},
   "outputs": [
    {
     "name": "stdout",
     "output_type": "stream",
     "text": [
      "[[35 42]\n",
      " [77 94]]\n",
      "[[35 42]\n",
      " [77 94]]\n"
     ]
    }
   ],
   "source": [
    ">>> A = np.matrix('1 2; 3 4')\n",
    ">>> B = np.matrix('5 6; 7 8')\n",
    ">>> C = np.matrix('2 4; 7 8')\n",
    ">>> L = A.dot(B + C)\n",
    ">>> R = A.dot(B) + A.dot(C)\n",
    ">>> print(L)\n",
    ">>> print(R)"
   ]
  },
  {
   "cell_type": "code",
   "execution_count": 52,
   "id": "c6b17766",
   "metadata": {},
   "outputs": [
    {
     "name": "stdout",
     "output_type": "stream",
     "text": [
      "[[19 22]\n",
      " [43 50]]\n",
      "[[23 34]\n",
      " [31 46]]\n"
     ]
    }
   ],
   "source": [
    ">>> A = np.matrix('1 2; 3 4')\n",
    ">>> B = np.matrix('5 6; 7 8')\n",
    ">>> L = A.dot(B)\n",
    ">>> R = B.dot(A)\n",
    ">>> print(L)\n",
    ">>> print(R)"
   ]
  },
  {
   "cell_type": "code",
   "execution_count": 53,
   "id": "6681039a",
   "metadata": {},
   "outputs": [
    {
     "name": "stdout",
     "output_type": "stream",
     "text": [
      "[[1 2]\n",
      " [3 4]]\n",
      "[[1 2]\n",
      " [3 4]]\n",
      "[[1 2]\n",
      " [3 4]]\n"
     ]
    }
   ],
   "source": [
    ">>> A = np.matrix('1 2; 3 4')\n",
    ">>> E = np.matrix('1 0; 0 1')\n",
    ">>> L = E.dot(A)\n",
    ">>> R = A.dot(E)\n",
    ">>> print(L)\n",
    ">>> print(R)\n",
    ">>> print(A)"
   ]
  },
  {
   "cell_type": "code",
   "execution_count": 54,
   "id": "5be75e91",
   "metadata": {},
   "outputs": [
    {
     "name": "stdout",
     "output_type": "stream",
     "text": [
      "[[0 0]\n",
      " [0 0]]\n",
      "[[0 0]\n",
      " [0 0]]\n",
      "[[0 0]\n",
      " [0 0]]\n"
     ]
    }
   ],
   "source": [
    ">>> A = np.matrix('1 2; 3 4')\n",
    ">>> Z = np.matrix('0 0; 0 0')\n",
    ">>> L = Z.dot(A)\n",
    ">>> R = A.dot(Z)\n",
    ">>> print(L)\n",
    ">>> print(R)\n",
    ">>> print(Z)"
   ]
  },
  {
   "cell_type": "markdown",
   "id": "a15705f3",
   "metadata": {},
   "source": [
    "# Определитель матрицы"
   ]
  },
  {
   "cell_type": "code",
   "execution_count": 55,
   "id": "521a9586",
   "metadata": {},
   "outputs": [
    {
     "name": "stdout",
     "output_type": "stream",
     "text": [
      "[[-4 -1  2]\n",
      " [10  4 -1]\n",
      " [ 8  3  1]]\n"
     ]
    }
   ],
   "source": [
    ">>> A = np.matrix('-4 -1 2; 10 4 -1; 8 3 1')\n",
    ">>> print(A)"
   ]
  },
  {
   "cell_type": "code",
   "execution_count": 56,
   "id": "122535d7",
   "metadata": {},
   "outputs": [
    {
     "data": {
      "text/plain": [
       "-14.000000000000009"
      ]
     },
     "execution_count": 56,
     "metadata": {},
     "output_type": "execute_result"
    }
   ],
   "source": [
    ">>> np.linalg.det(A)"
   ]
  },
  {
   "cell_type": "code",
   "execution_count": 57,
   "id": "e432ff7e",
   "metadata": {},
   "outputs": [
    {
     "name": "stdout",
     "output_type": "stream",
     "text": [
      "[[-4 -1  2]\n",
      " [10  4 -1]\n",
      " [ 8  3  1]]\n",
      "[[-4 10  8]\n",
      " [-1  4  3]\n",
      " [ 2 -1  1]]\n"
     ]
    }
   ],
   "source": [
    ">>> A = np.matrix('-4 -1 2; 10 4 -1; 8 3 1')\n",
    ">>> print(A)\n",
    ">>> print(A.T)"
   ]
  },
  {
   "cell_type": "code",
   "execution_count": 58,
   "id": "b92d1691",
   "metadata": {},
   "outputs": [
    {
     "name": "stdout",
     "output_type": "stream",
     "text": [
      "-14.0\n",
      "-14.0\n"
     ]
    }
   ],
   "source": [
    ">>> det_A = round(np.linalg.det(A), 3)\n",
    ">>> det_A_t = round(np.linalg.det(A.T), 3)\n",
    ">>> print(det_A)\n",
    ">>> print(det_A_t)"
   ]
  },
  {
   "cell_type": "code",
   "execution_count": 59,
   "id": "537a8161",
   "metadata": {},
   "outputs": [
    {
     "name": "stdout",
     "output_type": "stream",
     "text": [
      "[[-4 -1  2]\n",
      " [ 0  0  0]\n",
      " [ 8  3  1]]\n"
     ]
    },
    {
     "data": {
      "text/plain": [
       "0.0"
      ]
     },
     "execution_count": 59,
     "metadata": {},
     "output_type": "execute_result"
    }
   ],
   "source": [
    ">>> A = np.matrix('-4 -1 2; 0 0 0; 8 3 1')\n",
    ">>> print(A)\n",
    ">>> np.linalg.det(A)"
   ]
  },
  {
   "cell_type": "code",
   "execution_count": 60,
   "id": "baa6af4f",
   "metadata": {},
   "outputs": [
    {
     "name": "stdout",
     "output_type": "stream",
     "text": [
      "[[-4 -1  2]\n",
      " [10  4 -1]\n",
      " [ 8  3  1]]\n",
      "[[10  4 -1]\n",
      " [-4 -1  2]\n",
      " [ 8  3  1]]\n"
     ]
    },
    {
     "data": {
      "text/plain": [
       "14.0"
      ]
     },
     "execution_count": 60,
     "metadata": {},
     "output_type": "execute_result"
    }
   ],
   "source": [
    ">>> A = np.matrix('-4 -1 2; 10 4 -1; 8 3 1')\n",
    ">>> print(A)\n",
    ">>> B = np.matrix('10 4 -1; -4 -1 2; 8 3 1')\n",
    ">>> print(B)\n",
    ">>> round(np.linalg.det(A), 3)\n",
    ">>> round(np.linalg.det(B), 3)"
   ]
  },
  {
   "cell_type": "code",
   "execution_count": 61,
   "id": "61ae1550",
   "metadata": {},
   "outputs": [
    {
     "name": "stdout",
     "output_type": "stream",
     "text": [
      "[[-4 -1  2]\n",
      " [-4 -1  2]\n",
      " [ 8  3  1]]\n"
     ]
    },
    {
     "data": {
      "text/plain": [
       "0.0"
      ]
     },
     "execution_count": 61,
     "metadata": {},
     "output_type": "execute_result"
    }
   ],
   "source": [
    ">>> A = np.matrix('-4 -1 2; -4 -1 2; 8 3 1')\n",
    ">>> print(A)\n",
    ">>> np.linalg.det(A)"
   ]
  },
  {
   "cell_type": "code",
   "execution_count": 62,
   "id": "5913254d",
   "metadata": {},
   "outputs": [
    {
     "name": "stdout",
     "output_type": "stream",
     "text": [
      "[[-4 -1  2]\n",
      " [10  4 -1]\n",
      " [ 8  3  1]]\n",
      "[[-4 -1  2]\n",
      " [10  4 -1]\n",
      " [16  6  2]]\n"
     ]
    },
    {
     "data": {
      "text/plain": [
       "-28.0"
      ]
     },
     "execution_count": 62,
     "metadata": {},
     "output_type": "execute_result"
    }
   ],
   "source": [
    ">>> A = np.matrix('-4 -1 2; 10 4 -1; 8 3 1')\n",
    ">>> print(A)\n",
    ">>> k = 2\n",
    ">>> B = A.copy()\n",
    ">>> B[2, :] = k * B[2, :]\n",
    ">>> print(B)\n",
    ">>> det_A = round(np.linalg.det(A), 3)\n",
    ">>> det_B = round(np.linalg.det(B), 3)\n",
    ">>> det_A * k\n",
    ">>> det_B"
   ]
  },
  {
   "cell_type": "code",
   "execution_count": 63,
   "id": "b7a89f30",
   "metadata": {},
   "outputs": [
    {
     "name": "stdout",
     "output_type": "stream",
     "text": [
      "[[-4 -1  2]\n",
      " [ 4  2  4]\n",
      " [ 8  3  1]]\n",
      "[[-4 -1  2]\n",
      " [-4 -1  2]\n",
      " [ 8  3  1]]\n",
      "[[-4 -1  2]\n",
      " [ 8  3  2]\n",
      " [ 8  3  1]]\n"
     ]
    },
    {
     "data": {
      "text/plain": [
       "4.0"
      ]
     },
     "execution_count": 63,
     "metadata": {},
     "output_type": "execute_result"
    }
   ],
   "source": [
    ">>> A = np.matrix('-4 -1 2; -4 -1 2; 8 3 1')\n",
    ">>> B = np.matrix('-4 -1 2; 8 3 2; 8 3 1')\n",
    ">>> C = A.copy()\n",
    ">>> C[1, :] += B[1, :]\n",
    ">>> print(C)\n",
    ">>> print(A)\n",
    ">>> print(B)\n",
    ">>> round(np.linalg.det(C), 3)\n",
    ">>> round(np.linalg.det(A), 3) + round(np.linalg.det(B), 3)"
   ]
  },
  {
   "cell_type": "code",
   "execution_count": 64,
   "id": "28b71216",
   "metadata": {},
   "outputs": [
    {
     "name": "stdout",
     "output_type": "stream",
     "text": [
      "[[-4 -1  2]\n",
      " [10  4 -1]\n",
      " [ 8  3  1]]\n",
      "[[-4 -1  2]\n",
      " [ 2  2  3]\n",
      " [ 8  3  1]]\n"
     ]
    },
    {
     "data": {
      "text/plain": [
       "-14.0"
      ]
     },
     "execution_count": 64,
     "metadata": {},
     "output_type": "execute_result"
    }
   ],
   "source": [
    ">>> A = np.matrix('-4 -1 2; 10 4 -1; 8 3 1')\n",
    ">>> k = 2\n",
    ">>> B = A.copy()\n",
    ">>> B[1, :] = B[1, :] + k * B[0, :]\n",
    ">>> print(A)\n",
    ">>> print(B)\n",
    ">>> round(np.linalg.det(A), 3)\n",
    ">>> round(np.linalg.det(B), 3)"
   ]
  },
  {
   "cell_type": "code",
   "execution_count": 65,
   "id": "b9feaa5b",
   "metadata": {},
   "outputs": [
    {
     "name": "stdout",
     "output_type": "stream",
     "text": [
      "[[-4 -1  2]\n",
      " [10  4 -1]\n",
      " [ 8  3  1]]\n"
     ]
    },
    {
     "data": {
      "text/plain": [
       "0.0"
      ]
     },
     "execution_count": 65,
     "metadata": {},
     "output_type": "execute_result"
    }
   ],
   "source": [
    ">>> A = np.matrix('-4 -1 2; 10 4 -1; 8 3 1')\n",
    ">>> print(A)\n",
    ">>> k = 2\n",
    ">>> A[1, :] = A[0, :] + k * A[2, :]\n",
    ">>> round(np.linalg.det(A), 3)"
   ]
  },
  {
   "cell_type": "code",
   "execution_count": 66,
   "id": "e0e1adff",
   "metadata": {},
   "outputs": [
    {
     "name": "stdout",
     "output_type": "stream",
     "text": [
      "[[-4 -1  2]\n",
      " [10  4 -1]\n",
      " [ 8  3  1]]\n",
      "[[-4 -1  2]\n",
      " [-8 -2  4]\n",
      " [ 8  3  1]]\n"
     ]
    },
    {
     "data": {
      "text/plain": [
       "0.0"
      ]
     },
     "execution_count": 66,
     "metadata": {},
     "output_type": "execute_result"
    }
   ],
   "source": [
    ">>> A = np.matrix('-4 -1 2; 10 4 -1; 8 3 1')\n",
    ">>> print(A)\n",
    ">>> k = 2\n",
    ">>> A[1, :] = k * A[0, :]\n",
    ">>> print(A)\n",
    ">>> round(np.linalg.det(A), 3)"
   ]
  },
  {
   "cell_type": "markdown",
   "id": "7cbcc7e1",
   "metadata": {},
   "source": [
    "# Обратная матрица"
   ]
  },
  {
   "cell_type": "code",
   "execution_count": 67,
   "id": "10c6d8fd",
   "metadata": {},
   "outputs": [
    {
     "name": "stdout",
     "output_type": "stream",
     "text": [
      "[[ 0.45454545  0.27272727]\n",
      " [-0.18181818  0.09090909]]\n"
     ]
    }
   ],
   "source": [
    ">>> A = np.matrix('1 -3; 2 5')\n",
    ">>> A_inv = np.linalg.inv(A)\n",
    ">>> print(A_inv)"
   ]
  },
  {
   "cell_type": "code",
   "execution_count": 68,
   "id": "4c371e9c",
   "metadata": {},
   "outputs": [
    {
     "name": "stdout",
     "output_type": "stream",
     "text": [
      "[[ 1. -3.]\n",
      " [ 2.  5.]]\n",
      "[[ 1. -3.]\n",
      " [ 2.  5.]]\n"
     ]
    }
   ],
   "source": [
    ">>> A = np.matrix('1. -3.; 2. 5.')\n",
    ">>> A_inv = np.linalg.inv(A)\n",
    ">>> A_inv_inv = np.linalg.inv(A_inv)\n",
    ">>> print(A)\n",
    ">>> print(A_inv_inv)"
   ]
  },
  {
   "cell_type": "code",
   "execution_count": 69,
   "id": "753a8748",
   "metadata": {},
   "outputs": [
    {
     "name": "stdout",
     "output_type": "stream",
     "text": [
      "[[ 0.45454545 -0.18181818]\n",
      " [ 0.27272727  0.09090909]]\n",
      "[[ 0.45454545 -0.18181818]\n",
      " [ 0.27272727  0.09090909]]\n"
     ]
    }
   ],
   "source": [
    ">>> A = np.matrix('1. -3.; 2. 5.')\n",
    ">>> L = np.linalg.inv(A.T)\n",
    ">>> R = (np.linalg.inv(A)).T\n",
    ">>> print(L)\n",
    ">>> print(R)"
   ]
  },
  {
   "cell_type": "code",
   "execution_count": 70,
   "id": "07ccf391",
   "metadata": {},
   "outputs": [
    {
     "name": "stdout",
     "output_type": "stream",
     "text": [
      "[[ 0.09454545  0.03272727]\n",
      " [-0.03454545  0.00727273]]\n",
      "[[ 0.09454545  0.03272727]\n",
      " [-0.03454545  0.00727273]]\n"
     ]
    }
   ],
   "source": [
    ">>> A = np.matrix('1. -3.; 2. 5.')\n",
    ">>> B = np.matrix('7. 6.; 1. 8.')\n",
    ">>> L = np.linalg.inv(A.dot(B))\n",
    ">>> R = np.linalg.inv(B).dot(np.linalg.inv(A))\n",
    ">>> print(L)\n",
    ">>> print(R)"
   ]
  },
  {
   "cell_type": "markdown",
   "id": "7be0ce33",
   "metadata": {},
   "source": [
    "# Ранг матрицы"
   ]
  },
  {
   "cell_type": "code",
   "execution_count": 71,
   "id": "f1dbaf64",
   "metadata": {},
   "outputs": [
    {
     "name": "stdout",
     "output_type": "stream",
     "text": [
      "[[1. 0. 0. 0.]\n",
      " [0. 1. 0. 0.]\n",
      " [0. 0. 1. 0.]\n",
      " [0. 0. 0. 1.]]\n",
      "4\n"
     ]
    }
   ],
   "source": [
    ">>> m_eye = np.eye(4)\n",
    ">>> print(m_eye)\n",
    ">>> rank = np.linalg.matrix_rank(m_eye)\n",
    ">>> print(rank)"
   ]
  },
  {
   "cell_type": "code",
   "execution_count": 72,
   "id": "1cacbb03",
   "metadata": {},
   "outputs": [
    {
     "name": "stdout",
     "output_type": "stream",
     "text": [
      "[[1. 0. 0. 0.]\n",
      " [0. 1. 0. 0.]\n",
      " [0. 0. 1. 0.]\n",
      " [0. 0. 0. 0.]]\n",
      "3\n"
     ]
    }
   ],
   "source": [
    ">>> m_eye[3][3] = 0\n",
    ">>> print(m_eye)\n",
    ">>> rank = np.linalg.matrix_rank(m_eye)\n",
    ">>> print(rank)"
   ]
  }
 ],
 "metadata": {
  "kernelspec": {
   "display_name": "Python 3",
   "language": "python",
   "name": "python3"
  },
  "language_info": {
   "codemirror_mode": {
    "name": "ipython",
    "version": 3
   },
   "file_extension": ".py",
   "mimetype": "text/x-python",
   "name": "python",
   "nbconvert_exporter": "python",
   "pygments_lexer": "ipython3",
   "version": "3.8.8"
  }
 },
 "nbformat": 4,
 "nbformat_minor": 5
}
