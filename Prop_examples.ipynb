{
 "cells": [
  {
   "cell_type": "markdown",
   "id": "7ae6201c",
   "metadata": {},
   "source": [
    "# Дважды транспонированная матрица равна исходной матрице:"
   ]
  },
  {
   "cell_type": "code",
   "execution_count": 2,
   "id": "00ed1a46",
   "metadata": {},
   "outputs": [],
   "source": [
    "import numpy as np"
   ]
  },
  {
   "cell_type": "code",
   "execution_count": 5,
   "id": "cc7ca486",
   "metadata": {},
   "outputs": [
    {
     "name": "stdout",
     "output_type": "stream",
     "text": [
      "[[ 2  5 28]\n",
      " [29 53 94]\n",
      " [-5 63 71]]\n",
      "[[ 2  5 28]\n",
      " [29 53 94]\n",
      " [-5 63 71]]\n"
     ]
    }
   ],
   "source": [
    ">>> A = np.random.randint(-20, 100, (3, 3))\n",
    ">>> print(A)\n",
    ">>> R = (A.T).T\n",
    ">>> print(R)"
   ]
  },
  {
   "cell_type": "markdown",
   "id": "73c3c431",
   "metadata": {},
   "source": [
    "# Транспонирование суммы матриц равно сумме транспонированных матриц:"
   ]
  },
  {
   "cell_type": "code",
   "execution_count": 6,
   "id": "76936e8a",
   "metadata": {},
   "outputs": [
    {
     "name": "stdout",
     "output_type": "stream",
     "text": [
      "[[102  50]\n",
      " [ 97 130]\n",
      " [122  60]]\n",
      "[[102  50]\n",
      " [ 97 130]\n",
      " [122  60]]\n"
     ]
    }
   ],
   "source": [
    ">>> A = np.random.randint(-20, 100, (2, 3))\n",
    ">>> B = np.random.randint(-20, 100, (2, 3))\n",
    ">>> L = (A + B).T\n",
    ">>> R = A.T + B.T\n",
    ">>> print(L)\n",
    ">>> print(R)"
   ]
  },
  {
   "cell_type": "markdown",
   "id": "be334278",
   "metadata": {},
   "source": [
    "# Транспонирование произведения матриц равно произведению транспонированных матриц расставленных в обратном порядке:"
   ]
  },
  {
   "cell_type": "code",
   "execution_count": 7,
   "id": "583c93b3",
   "metadata": {},
   "outputs": [
    {
     "name": "stdout",
     "output_type": "stream",
     "text": [
      "[[ 727 2809]\n",
      " [ 560  335]]\n",
      "[[ 727 2809]\n",
      " [ 560  335]]\n"
     ]
    }
   ],
   "source": [
    ">>> A = np.random.randint(-20, 100, (2, 2))\n",
    ">>> B = np.random.randint(-20, 100, (2, 2))\n",
    ">>> L = (A.dot(B)).T\n",
    ">>> R = (B.T).dot(A.T)\n",
    ">>> print(L)\n",
    ">>> print(R)"
   ]
  },
  {
   "cell_type": "markdown",
   "id": "78bc136b",
   "metadata": {},
   "source": [
    "# Транспонирование произведения матрицы на число равно произведению этого числа на транспонированную матрицу:"
   ]
  },
  {
   "cell_type": "code",
   "execution_count": 8,
   "id": "adcb1f26",
   "metadata": {
    "scrolled": true
   },
   "outputs": [
    {
     "name": "stdout",
     "output_type": "stream",
     "text": [
      "[[282  93 132]\n",
      " [ -9 -36 183]]\n",
      "[[282  93 132]\n",
      " [ -9 -36 183]]\n"
     ]
    }
   ],
   "source": [
    ">>> A = np.random.randint(-20, 100, (3, 2))\n",
    ">>> k = 3\n",
    ">>> L = (k * A).T\n",
    ">>> R = k * (A.T)\n",
    ">>> print(L)\n",
    ">>> print(R)"
   ]
  },
  {
   "cell_type": "markdown",
   "id": "941c7203",
   "metadata": {},
   "source": [
    "# Определители исходной и транспонированной матрицы совпадают:"
   ]
  },
  {
   "cell_type": "code",
   "execution_count": 9,
   "id": "0328b3e6",
   "metadata": {},
   "outputs": [
    {
     "name": "stdout",
     "output_type": "stream",
     "text": [
      "125000169\n",
      "125000169\n"
     ]
    }
   ],
   "source": [
    ">>> A = np.random.randint(-20, 100, (5, 5))\n",
    ">>> A_det = np.linalg.det(A)\n",
    ">>> A_T_det = np.linalg.det(A.T)\n",
    ">>> print(format(A_det, '.9g'))\n",
    ">>> print(format(A_T_det, '.9g'))"
   ]
  },
  {
   "cell_type": "markdown",
   "id": "24c521e7",
   "metadata": {},
   "source": [
    "# Произведение единицы и любой заданной матрицы равно заданной матрице:"
   ]
  },
  {
   "cell_type": "code",
   "execution_count": 10,
   "id": "fe8c8630",
   "metadata": {},
   "outputs": [
    {
     "name": "stdout",
     "output_type": "stream",
     "text": [
      "[[93 59]\n",
      " [88  5]]\n",
      "[[93 59]\n",
      " [88  5]]\n"
     ]
    }
   ],
   "source": [
    ">>> A = np.random.randint(5, 100, (2, 2))\n",
    ">>> L = 1 * A\n",
    ">>> R = A\n",
    ">>> print(L)\n",
    ">>> print(R)"
   ]
  },
  {
   "cell_type": "markdown",
   "id": "954dc3a7",
   "metadata": {},
   "source": [
    "# Произведение нуля и любой матрицы равно нулевой матрице, размерность которой равна исходной матрицы:"
   ]
  },
  {
   "cell_type": "code",
   "execution_count": 12,
   "id": "9e741179",
   "metadata": {},
   "outputs": [
    {
     "name": "stdout",
     "output_type": "stream",
     "text": [
      "[[0 0]\n",
      " [0 0]]\n",
      "[[0 0]\n",
      " [0 0]]\n"
     ]
    }
   ],
   "source": [
    ">>> A = np.random.randint(-20, 100, (2, 2))\n",
    ">>> Z = np.matrix('0 0; 0 0')\n",
    ">>> L = 0 * A\n",
    ">>> R = Z\n",
    ">>> print(L)\n",
    ">>> print(R)"
   ]
  },
  {
   "cell_type": "markdown",
   "id": "1bc9b901",
   "metadata": {},
   "source": [
    "# Произведение матрицы на сумму чисел равно сумме произведений матрицы на каждое из этих чисел:"
   ]
  },
  {
   "cell_type": "code",
   "execution_count": 13,
   "id": "cd121f26",
   "metadata": {},
   "outputs": [
    {
     "name": "stdout",
     "output_type": "stream",
     "text": [
      "[[145 465 250  80 415 230 400]\n",
      " [140 425 460 495 305 465 110]\n",
      " [430 425 440 450 225 -35 205]\n",
      " [190 130 315 225 165 365 485]]\n",
      "[[145 465 250  80 415 230 400]\n",
      " [140 425 460 495 305 465 110]\n",
      " [430 425 440 450 225 -35 205]\n",
      " [190 130 315 225 165 365 485]]\n"
     ]
    }
   ],
   "source": [
    ">>> A = np.random.randint(-20, 100, (4, 7))\n",
    ">>> p = 2\n",
    ">>> q = 3\n",
    ">>> L = (p + q) * A\n",
    ">>> R = p * A + q * A\n",
    ">>> print(L)\n",
    ">>> print(R)"
   ]
  },
  {
   "cell_type": "markdown",
   "id": "ab6b59e1",
   "metadata": {},
   "source": [
    "# Произведение матрицы на произведение двух чисел равно произведению второго числа и заданной матрицы, умноженному на первое число:"
   ]
  },
  {
   "cell_type": "code",
   "execution_count": 14,
   "id": "617e6f84",
   "metadata": {},
   "outputs": [
    {
     "name": "stdout",
     "output_type": "stream",
     "text": [
      "[[  60  474  330  378  210   54  258]\n",
      " [ 426   72  432  384 -108  -84  246]]\n",
      "[[  60  474  330  378  210   54  258]\n",
      " [ 426   72  432  384 -108  -84  246]]\n"
     ]
    }
   ],
   "source": [
    ">>> A = np.random.randint(-20, 100, (2, 7))\n",
    ">>> p = 2\n",
    ">>> q = 3\n",
    ">>> L = (p * q) * A\n",
    ">>> R = p * (q * A)\n",
    ">>> print(L)\n",
    ">>> print(R)"
   ]
  },
  {
   "cell_type": "markdown",
   "id": "43127544",
   "metadata": {},
   "source": [
    "# Произведение суммы матриц на число равно сумме произведений этих матриц на заданное число:"
   ]
  },
  {
   "cell_type": "code",
   "execution_count": 16,
   "id": "c90322fe",
   "metadata": {},
   "outputs": [
    {
     "name": "stdout",
     "output_type": "stream",
     "text": [
      "[[459 378 348]\n",
      " [321 393 483]\n",
      " [342 447 351]\n",
      " [351 366 435]\n",
      " [474 333 396]]\n",
      "[[459 378 348]\n",
      " [321 393 483]\n",
      " [342 447 351]\n",
      " [351 366 435]\n",
      " [474 333 396]]\n"
     ]
    }
   ],
   "source": [
    ">>> A = np.random.randint(50, 100, (5, 3))\n",
    ">>> B = np.random.randint(30, 100, (5, 3))\n",
    ">>> k = 3\n",
    ">>> L = k * (A + B)\n",
    ">>> R = k * A + k * B\n",
    ">>> print(L)\n",
    ">>> print(R)"
   ]
  },
  {
   "cell_type": "markdown",
   "id": "6fccbca7",
   "metadata": {},
   "source": [
    "# Коммутативность сложения. От перестановки матриц их сумма не изменяется:"
   ]
  },
  {
   "cell_type": "code",
   "execution_count": 17,
   "id": "93186c88",
   "metadata": {},
   "outputs": [
    {
     "name": "stdout",
     "output_type": "stream",
     "text": [
      "[[120 150  51]\n",
      " [ 44  66  72]\n",
      " [153  37 112]]\n",
      "[[120 150  51]\n",
      " [ 44  66  72]\n",
      " [153  37 112]]\n"
     ]
    }
   ],
   "source": [
    ">>> A = np.random.randint(-10, 100, (3, 3))\n",
    ">>> B = np.random.randint(-19, 100, (3, 3))\n",
    ">>> L = A + B\n",
    ">>> R = B + A\n",
    ">>> print(L)\n",
    ">>> print(R)"
   ]
  },
  {
   "cell_type": "markdown",
   "id": "8712659a",
   "metadata": {},
   "source": [
    "# Ассоциативность сложения. Результат сложения трех и более матриц не зависит от порядка, в котором эта операция будет выполняться:"
   ]
  },
  {
   "cell_type": "code",
   "execution_count": 18,
   "id": "42046b08",
   "metadata": {},
   "outputs": [
    {
     "name": "stdout",
     "output_type": "stream",
     "text": [
      "[[97  9]\n",
      " [78 88]\n",
      " [21 96]\n",
      " [76 84]\n",
      " [36 56]]\n",
      "[[97  9]\n",
      " [78 88]\n",
      " [21 96]\n",
      " [76 84]\n",
      " [36 56]]\n"
     ]
    }
   ],
   "source": [
    ">>> A = np.random.randint(-20, 50, (5, 2))\n",
    ">>> B = np.random.randint(0, 50, (5, 2))\n",
    ">>> C = np.random.randint(-20, 50, (5, 2))\n",
    ">>> L = A + (B + C)\n",
    ">>> R = (A + B) + C\n",
    ">>> print(L)\n",
    ">>> print(R)"
   ]
  },
  {
   "cell_type": "markdown",
   "id": "a0356359",
   "metadata": {},
   "source": [
    "# Для любой матрицы существует противоположная ей , такая, что их сумма является нулевой матрицей:"
   ]
  },
  {
   "cell_type": "code",
   "execution_count": 19,
   "id": "7054e715",
   "metadata": {},
   "outputs": [
    {
     "name": "stdout",
     "output_type": "stream",
     "text": [
      "[[0 0]\n",
      " [0 0]]\n",
      "[[0 0]\n",
      " [0 0]]\n"
     ]
    }
   ],
   "source": [
    ">>> A = np.random.randint(0, 50, (2, 2))\n",
    ">>> Z = np.matrix('0 0; 0 0')\n",
    ">>> L = A + (-1)*A\n",
    ">>> print(L)\n",
    ">>> print(Z)"
   ]
  },
  {
   "cell_type": "markdown",
   "id": "a5f76809",
   "metadata": {},
   "source": [
    "# Ассоциативность умножения. Результат умножения матриц не зависит от порядка, в котором будет выполняться эта операция:"
   ]
  },
  {
   "cell_type": "code",
   "execution_count": 20,
   "id": "1e22cf8b",
   "metadata": {},
   "outputs": [
    {
     "name": "stdout",
     "output_type": "stream",
     "text": [
      "[[121648  27334  63100]\n",
      " [ 51026  11158  24370]\n",
      " [ 56020  12568  28552]]\n",
      "[[121648  27334  63100]\n",
      " [ 51026  11158  24370]\n",
      " [ 56020  12568  28552]]\n"
     ]
    }
   ],
   "source": [
    ">>> A = np.random.randint(-7, 50, (3, 3))\n",
    ">>> B = np.random.randint(-7, 50, (3, 3))\n",
    ">>> C = np.random.randint(-7, 50, (3, 3))\n",
    ">>> L = A.dot(B.dot(C))\n",
    ">>> R = (A.dot(B)).dot(C)\n",
    ">>> print(L)\n",
    ">>> print(R)"
   ]
  },
  {
   "cell_type": "markdown",
   "id": "89fe1823",
   "metadata": {},
   "source": [
    "# Дистрибутивность умножения. Произведение матрицы на сумму матриц равно сумме произведений матриц:"
   ]
  },
  {
   "cell_type": "code",
   "execution_count": 21,
   "id": "6bc21f19",
   "metadata": {},
   "outputs": [
    {
     "name": "stdout",
     "output_type": "stream",
     "text": [
      "[[ 500  700]\n",
      " [-292 -308]]\n",
      "[[ 500  700]\n",
      " [-292 -308]]\n"
     ]
    }
   ],
   "source": [
    ">>> A = np.random.randint(-20, 50, (2, 2))\n",
    ">>> B = np.random.randint(-20, 50, (2, 2))\n",
    ">>> C = np.random.randint(-20, 50, (2, 2))\n",
    ">>> L = A.dot(B + C)\n",
    ">>> R = A.dot(B) + A.dot(C)\n",
    ">>> print(L)\n",
    ">>> print(R)"
   ]
  },
  {
   "cell_type": "markdown",
   "id": "07ea0181",
   "metadata": {},
   "source": [
    "# Умножение матриц в общем виде не коммутативно. Это означает, что для матриц не выполняется правило независимости произведения от перестановки множителей:"
   ]
  },
  {
   "cell_type": "code",
   "execution_count": 22,
   "id": "22494736",
   "metadata": {},
   "outputs": [
    {
     "name": "stdout",
     "output_type": "stream",
     "text": [
      "[[ 6528  9242  7567   423 11170]\n",
      " [13833 16291  3156  7395 17196]\n",
      " [ 3329  9679  3463  4272  9356]\n",
      " [ 6638 11207  7364   564  9548]\n",
      " [10496 15344  7517  2385 14334]]\n",
      "[[ 9328  5956 10972  9496 12654]\n",
      " [ 9567  8068  4806  7618  9016]\n",
      " [ 9679 10040  5783  8621 13522]\n",
      " [ 7435  4072 14676  6350 11828]\n",
      " [10045  6686 11107  6751 11651]]\n"
     ]
    }
   ],
   "source": [
    ">>> A = np.random.randint(-20, 100, (5, 5))\n",
    ">>> B = np.random.randint(-20, 100, (5, 5))\n",
    ">>> L = A.dot(B)\n",
    ">>> R = B.dot(A)\n",
    ">>> print(L)\n",
    ">>> print(R)"
   ]
  },
  {
   "cell_type": "markdown",
   "id": "65fcab6f",
   "metadata": {},
   "source": [
    "# Произведение заданной матрицы на единичную равно исходной матрице:"
   ]
  },
  {
   "cell_type": "code",
   "execution_count": 23,
   "id": "c739f87c",
   "metadata": {},
   "outputs": [
    {
     "name": "stdout",
     "output_type": "stream",
     "text": [
      "[[44 47]\n",
      " [76 55]]\n",
      "[[44 47]\n",
      " [76 55]]\n",
      "[[44 47]\n",
      " [76 55]]\n"
     ]
    }
   ],
   "source": [
    ">>> A = np.random.randint(-20, 100, (2, 2))\n",
    ">>> E = np.matrix('1 0; 0 1')\n",
    ">>> L = E.dot(A)\n",
    ">>> R = A.dot(E)\n",
    ">>> print(L)\n",
    ">>> print(R)\n",
    ">>> print(A)"
   ]
  },
  {
   "cell_type": "markdown",
   "id": "e869948a",
   "metadata": {},
   "source": [
    "# Произведение заданной матрицы на нулевую матрицу равно нулевой матрице:"
   ]
  },
  {
   "cell_type": "code",
   "execution_count": 24,
   "id": "66bcc9b3",
   "metadata": {},
   "outputs": [
    {
     "name": "stdout",
     "output_type": "stream",
     "text": [
      "[[0. 0. 0. 0.]\n",
      " [0. 0. 0. 0.]\n",
      " [0. 0. 0. 0.]\n",
      " [0. 0. 0. 0.]]\n",
      "[[0. 0. 0. 0.]\n",
      " [0. 0. 0. 0.]\n",
      " [0. 0. 0. 0.]\n",
      " [0. 0. 0. 0.]]\n",
      "[[0. 0. 0. 0.]\n",
      " [0. 0. 0. 0.]\n",
      " [0. 0. 0. 0.]\n",
      " [0. 0. 0. 0.]]\n"
     ]
    }
   ],
   "source": [
    ">>> A = np.random.randint(50, 100, (4, 4))\n",
    ">>> Z = np.zeros((4, 4))\n",
    ">>> L = Z.dot(A)\n",
    ">>> R = A.dot(Z)\n",
    ">>> print(L)\n",
    ">>> print(R)\n",
    ">>> print(Z)"
   ]
  },
  {
   "cell_type": "markdown",
   "id": "ddeec658",
   "metadata": {},
   "source": [
    "# Определитель матрицы остается неизменным при ее транспонировании:"
   ]
  },
  {
   "cell_type": "code",
   "execution_count": 26,
   "id": "47308845",
   "metadata": {},
   "outputs": [
    {
     "name": "stdout",
     "output_type": "stream",
     "text": [
      "[[67 60 80 83 45]\n",
      " [-6 69 60 47 51]\n",
      " [91 18 45 48 87]\n",
      " [11 89 34  5 13]\n",
      " [10 13 42  9 86]]\n",
      "[[67 -6 91 11 10]\n",
      " [60 69 18 89 13]\n",
      " [80 60 45 34 42]\n",
      " [83 47 48  5  9]\n",
      " [45 51 87 13 86]]\n",
      "701067603.0\n",
      "701067603.0\n"
     ]
    }
   ],
   "source": [
    ">>> A = np.random.randint(-6, 100, (5, 5))\n",
    ">>> print(A)\n",
    ">>> print(A.T)\n",
    ">>> det_A = round(np.linalg.det(A), 3)\n",
    ">>> det_A_t = round(np.linalg.det(A.T), 3)\n",
    ">>> print(det_A)\n",
    ">>> print(det_A_t)"
   ]
  },
  {
   "cell_type": "markdown",
   "id": "05aaca22",
   "metadata": {},
   "source": [
    "# Если у матрицы есть строка или столбец, состоящие из нулей, то определитель такой матрицы равен нулю:"
   ]
  },
  {
   "cell_type": "code",
   "execution_count": 28,
   "id": "60dba33d",
   "metadata": {},
   "outputs": [
    {
     "name": "stdout",
     "output_type": "stream",
     "text": [
      "[[ 243   22 1512 4242]\n",
      " [   0    0    0    0]\n",
      " [  32    7    9    4]\n",
      " [  42 1214  455  522]]\n"
     ]
    },
    {
     "data": {
      "text/plain": [
       "0.0"
      ]
     },
     "execution_count": 28,
     "metadata": {},
     "output_type": "execute_result"
    }
   ],
   "source": [
    ">>> A = np.matrix('243 22 1512 4242; 0 0 0 0; 32 7 9 4; 42 1214 455 522')\n",
    ">>> print(A)\n",
    ">>> np.linalg.det(A)"
   ]
  },
  {
   "cell_type": "markdown",
   "id": "e8c42dd3",
   "metadata": {},
   "source": [
    "# При перестановке строк матрицы знак ее определителя меняется на противоположный:"
   ]
  },
  {
   "cell_type": "code",
   "execution_count": 34,
   "id": "646fa951",
   "metadata": {},
   "outputs": [
    {
     "name": "stdout",
     "output_type": "stream",
     "text": [
      "[[ -90  134]\n",
      " [1141   -1]]\n",
      "[[1141   -1]\n",
      " [ -90  134]]\n",
      "-152804.0\n"
     ]
    },
    {
     "data": {
      "text/plain": [
       "152804.0"
      ]
     },
     "execution_count": 34,
     "metadata": {},
     "output_type": "execute_result"
    }
   ],
   "source": [
    ">>> A = np.matrix('-90 134; 1141 -1')\n",
    ">>> print(A)\n",
    ">>> B = np.matrix('1141 -1; -90 134')\n",
    ">>> print(B)\n",
    ">>> print(round(np.linalg.det(A), 3))\n",
    ">>> round(np.linalg.det(B), 3)"
   ]
  },
  {
   "cell_type": "markdown",
   "id": "a36c705b",
   "metadata": {},
   "source": [
    "# Если у матрицы есть две одинаковые строки, то ее определитель равен нулю:"
   ]
  },
  {
   "cell_type": "code",
   "execution_count": 35,
   "id": "68de248c",
   "metadata": {
    "scrolled": true
   },
   "outputs": [
    {
     "name": "stdout",
     "output_type": "stream",
     "text": [
      "[[ -4  -1   2 453]\n",
      " [ -4  -1   2 363]\n",
      " [442  22  11  32]\n",
      " [442  22  11  32]]\n"
     ]
    },
    {
     "data": {
      "text/plain": [
       "0.0"
      ]
     },
     "execution_count": 35,
     "metadata": {},
     "output_type": "execute_result"
    }
   ],
   "source": [
    ">>> A = np.matrix('-4 -1 2 453; -4 -1 2 363; 442 22 11 32; 442 22 11 32')\n",
    ">>> print(A)\n",
    ">>> np.linalg.det(A)"
   ]
  },
  {
   "cell_type": "markdown",
   "id": "66ac1538",
   "metadata": {},
   "source": [
    "# Если все элементы строки или столбца матрицы умножить на какое-то число, то и определитель будет умножен на это число:"
   ]
  },
  {
   "cell_type": "code",
   "execution_count": 37,
   "id": "2810be5b",
   "metadata": {},
   "outputs": [
    {
     "name": "stdout",
     "output_type": "stream",
     "text": [
      "[[ 49  40  70  26  60  -6  25]\n",
      " [ -3  68  88  83  39  -1  62]\n",
      " [ 23 -11  54   6 -11 -10  -7]\n",
      " [ 48  55  76  20  -2 -11  52]\n",
      " [ 84  44  15  65  39  20  15]\n",
      " [ 73  42  66  78  76  41  62]\n",
      " [ 61  80  31   4  77  64   4]]\n",
      "[[ 49  40  70  26  60  -6  25]\n",
      " [ -3  68  88  83  39  -1  62]\n",
      " [ 46 -22 108  12 -22 -20 -14]\n",
      " [ 48  55  76  20  -2 -11  52]\n",
      " [ 84  44  15  65  39  20  15]\n",
      " [ 73  42  66  78  76  41  62]\n",
      " [ 61  80  31   4  77  64   4]]\n",
      "-15279913856789.982\n"
     ]
    },
    {
     "data": {
      "text/plain": [
       "-15279913856790.01"
      ]
     },
     "execution_count": 37,
     "metadata": {},
     "output_type": "execute_result"
    }
   ],
   "source": [
    ">>> A = np.random.randint(-15, 90, (7, 7))\n",
    ">>> print(A)\n",
    ">>> k = 2\n",
    ">>> B = A.copy()\n",
    ">>> B[2, :] = k * B[2, :]\n",
    ">>> print(B)\n",
    ">>> det_A = round(np.linalg.det(A), 3)\n",
    ">>> det_B = round(np.linalg.det(B), 3)\n",
    ">>> print(det_A * k)\n",
    ">>> det_B"
   ]
  },
  {
   "cell_type": "markdown",
   "id": "cea7cc2f",
   "metadata": {},
   "source": [
    "# Если все элементы строки или столбца можно представить как сумму двух слагаемых, то определитель такой матрицы равен сумме определителей двух соответствующих матриц:"
   ]
  },
  {
   "cell_type": "code",
   "execution_count": 39,
   "id": "78da1082",
   "metadata": {},
   "outputs": [
    {
     "name": "stdout",
     "output_type": "stream",
     "text": [
      "[[83 20 70 72]\n",
      " [75 33 35 83]\n",
      " [ 2 72 61 11]\n",
      " [72 62 18  6]]\n",
      "[[83 20 70 72]\n",
      " [75 16 29 77]\n",
      " [ 2 72 61 11]\n",
      " [72 62 18  6]]\n",
      "[[-5  0 68 85]\n",
      " [ 0 17  6  6]\n",
      " [60 23 87 74]\n",
      " [12 43 17 51]]\n",
      "-22590248.0\n"
     ]
    },
    {
     "data": {
      "text/plain": [
       "-20810569.0"
      ]
     },
     "execution_count": 39,
     "metadata": {},
     "output_type": "execute_result"
    }
   ],
   "source": [
    ">>> A = np.random.randint(-15, 90, (4, 4))\n",
    ">>> B = np.random.randint(-15, 90, (4, 4))\n",
    ">>> C = A.copy()\n",
    ">>> C[1, :] += B[1, :]\n",
    ">>> print(C)\n",
    ">>> print(A)\n",
    ">>> print(B)\n",
    ">>> print(round(np.linalg.det(C), 3))\n",
    ">>> round(np.linalg.det(A), 3) + round(np.linalg.det(B), 3)"
   ]
  },
  {
   "cell_type": "markdown",
   "id": "fad0e390",
   "metadata": {},
   "source": [
    "# Если к элементам одной строки прибавить элементы другой строки, умноженные на одно и тоже число, то определитель матрицы не изменится:"
   ]
  },
  {
   "cell_type": "code",
   "execution_count": 40,
   "id": "6fb767d6",
   "metadata": {},
   "outputs": [
    {
     "name": "stdout",
     "output_type": "stream",
     "text": [
      "[[49 35 21]\n",
      " [24 60 54]\n",
      " [82 40 77]]\n",
      "[[ 49  35  21]\n",
      " [122 130  96]\n",
      " [ 82  40  77]]\n",
      "127680.0\n"
     ]
    },
    {
     "data": {
      "text/plain": [
       "127680.0"
      ]
     },
     "execution_count": 40,
     "metadata": {},
     "output_type": "execute_result"
    }
   ],
   "source": [
    ">>> A = np.random.randint(7, 90, (3, 3))\n",
    ">>> k = 2\n",
    ">>> B = A.copy()\n",
    ">>> B[1, :] = B[1, :] + k * B[0, :]\n",
    ">>> print(A)\n",
    ">>> print(B)\n",
    ">>> print(round(np.linalg.det(A), 3))\n",
    ">>> round(np.linalg.det(B), 3)"
   ]
  },
  {
   "cell_type": "markdown",
   "id": "01b36f4a",
   "metadata": {},
   "source": [
    "# Если строка или столбец матрицы является линейной комбинацией других строк (столбцов), то определитель такой матрицы равен нулю:"
   ]
  },
  {
   "cell_type": "code",
   "execution_count": 41,
   "id": "4bc7be35",
   "metadata": {},
   "outputs": [
    {
     "name": "stdout",
     "output_type": "stream",
     "text": [
      "[[ 535 -241   22]\n",
      " [   1   24   -1]\n",
      " [ 526    5    1]]\n"
     ]
    },
    {
     "data": {
      "text/plain": [
       "0.0"
      ]
     },
     "execution_count": 41,
     "metadata": {},
     "output_type": "execute_result"
    }
   ],
   "source": [
    ">>> A = np.matrix('535 -241 22; 1 24 -1; 526 5 1')\n",
    ">>> print(A)\n",
    ">>> k = 2\n",
    ">>> A[1, :] = A[0, :] + k * A[2, :]\n",
    ">>> round(np.linalg.det(A), 3)"
   ]
  },
  {
   "cell_type": "markdown",
   "id": "fa90c713",
   "metadata": {},
   "source": [
    "# Если матрица содержит пропорциональные строки, то ее определитель равен нулю:"
   ]
  },
  {
   "cell_type": "code",
   "execution_count": 42,
   "id": "9d869949",
   "metadata": {
    "scrolled": true
   },
   "outputs": [
    {
     "name": "stdout",
     "output_type": "stream",
     "text": [
      "[[ 32  35 -79 -13  -2  24]\n",
      " [-25  56 -10 -84  42 -26]\n",
      " [ 63 -61  -3  47 -86  85]\n",
      " [ 22 -43 -69  -2  57  34]\n",
      " [-54  -2  23 -56 -32   9]\n",
      " [-80  11  16 -87  84  -2]]\n",
      "[[  32   35  -79  -13   -2   24]\n",
      " [  64   70 -158  -26   -4   48]\n",
      " [  63  -61   -3   47  -86   85]\n",
      " [  22  -43  -69   -2   57   34]\n",
      " [ -54   -2   23  -56  -32    9]\n",
      " [ -80   11   16  -87   84   -2]]\n"
     ]
    },
    {
     "data": {
      "text/plain": [
       "0.0"
      ]
     },
     "execution_count": 42,
     "metadata": {},
     "output_type": "execute_result"
    }
   ],
   "source": [
    ">>> A = np.random.randint(-87, 90, (6, 6))\n",
    ">>> print(A)\n",
    ">>> k = 2\n",
    ">>> A[1, :] = k * A[0, :]\n",
    ">>> print(A)\n",
    ">>> round(np.linalg.det(A), 3)"
   ]
  },
  {
   "cell_type": "markdown",
   "id": "fbd9a015",
   "metadata": {},
   "source": [
    "# Обратная матрица обратной матрицы есть исходная матрица:"
   ]
  },
  {
   "cell_type": "code",
   "execution_count": 44,
   "id": "79601a20",
   "metadata": {},
   "outputs": [
    {
     "name": "stdout",
     "output_type": "stream",
     "text": [
      "[[-77.51297809  36.9903236   37.91831909 -57.66060159]\n",
      " [ -1.49275301  48.38315589  68.34564781  -5.42582336]\n",
      " [-71.295893   -56.50234838  47.53848087 -41.08487581]\n",
      " [ 69.18670277 -28.66419052 -14.3503396   51.63565556]]\n",
      "[[-77.51297809  36.9903236   37.91831909 -57.66060159]\n",
      " [ -1.49275301  48.38315589  68.34564781  -5.42582336]\n",
      " [-71.295893   -56.50234838  47.53848087 -41.08487581]\n",
      " [ 69.18670277 -28.66419052 -14.3503396   51.63565556]]\n"
     ]
    }
   ],
   "source": [
    ">>> A = np.random.uniform(-87., 90., (4, 4))\n",
    ">>> A_inv = np.linalg.inv(A)\n",
    ">>> A_inv_inv = np.linalg.inv(A_inv)\n",
    ">>> print(A)\n",
    ">>> print(A_inv_inv)"
   ]
  },
  {
   "cell_type": "markdown",
   "id": "23048ddd",
   "metadata": {},
   "source": [
    "# Обратная матрица транспонированной матрицы равна транспонированной матрице от обратной матрицы:"
   ]
  },
  {
   "cell_type": "code",
   "execution_count": 46,
   "id": "fa0e6940",
   "metadata": {},
   "outputs": [
    {
     "name": "stdout",
     "output_type": "stream",
     "text": [
      "[[-0.01803632  0.07557992 -0.06375944]\n",
      " [ 0.05061056 -0.06537994  0.01589703]\n",
      " [-0.0238444  -0.03909121  0.10282702]]\n",
      "[[-0.01803632  0.07557992 -0.06375944]\n",
      " [ 0.05061056 -0.06537994  0.01589703]\n",
      " [-0.0238444  -0.03909121  0.10282702]]\n"
     ]
    }
   ],
   "source": [
    ">>> A = np.random.uniform(-7., 90., (3, 3))\n",
    ">>> L = np.linalg.inv(A.T)\n",
    ">>> R = (np.linalg.inv(A)).T\n",
    ">>> print(L)\n",
    ">>> print(R)"
   ]
  },
  {
   "cell_type": "markdown",
   "id": "aa291b9b",
   "metadata": {},
   "source": [
    "# Обратная матрица произведения матриц равна произведению обратных матриц:"
   ]
  },
  {
   "cell_type": "code",
   "execution_count": 47,
   "id": "0e88e39b",
   "metadata": {},
   "outputs": [
    {
     "name": "stdout",
     "output_type": "stream",
     "text": [
      "[[ 0.00539561 -0.007298    0.00118221]\n",
      " [-0.00441834  0.00759437 -0.00227042]\n",
      " [-0.00096821 -0.00051423  0.0013198 ]]\n",
      "[[ 0.00539561 -0.007298    0.00118221]\n",
      " [-0.00441834  0.00759437 -0.00227042]\n",
      " [-0.00096821 -0.00051423  0.0013198 ]]\n"
     ]
    }
   ],
   "source": [
    ">>> A = np.random.uniform(3., 90., (3, 3))\n",
    ">>> B = np.random.uniform(50., 90., (3, 3))\n",
    ">>> L = np.linalg.inv(A.dot(B))\n",
    ">>> R = np.linalg.inv(B).dot(np.linalg.inv(A))\n",
    ">>> print(L)\n",
    ">>> print(R)"
   ]
  }
 ],
 "metadata": {
  "kernelspec": {
   "display_name": "Python 3",
   "language": "python",
   "name": "python3"
  },
  "language_info": {
   "codemirror_mode": {
    "name": "ipython",
    "version": 3
   },
   "file_extension": ".py",
   "mimetype": "text/x-python",
   "name": "python",
   "nbconvert_exporter": "python",
   "pygments_lexer": "ipython3",
   "version": "3.8.8"
  }
 },
 "nbformat": 4,
 "nbformat_minor": 5
}
